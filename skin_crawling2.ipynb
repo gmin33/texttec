{
 "cells": [
  {
   "cell_type": "code",
   "execution_count": null,
   "id": "cf9d1dec-1e40-4163-b103-acd7a0d1c16f",
   "metadata": {},
   "outputs": [],
   "source": [
    "# 브랜드명, 가격들, 상품명 가져오기 "
   ]
  },
  {
   "cell_type": "code",
   "execution_count": 1,
   "id": "658e2be3-f093-4857-979e-101921f751c0",
   "metadata": {},
   "outputs": [
    {
     "name": "stdout",
     "output_type": "stream",
     "text": [
      "109\n"
     ]
    }
   ],
   "source": [
    "from selenium import webdriver\n",
    "import chromedriver_autoinstaller\n",
    "import time \n",
    "import pandas as pd\n",
    "from selenium.webdriver.common.keys import Keys\n",
    "from selenium.webdriver.common.by import By\n",
    "\n",
    "chrome_ver = chromedriver_autoinstaller.get_chrome_version().split('.')[0]\n",
    "print(chrome_ver)\n"
   ]
  },
  {
   "cell_type": "code",
   "execution_count": 11,
   "id": "d5342428-17e4-4174-919e-2084da966329",
   "metadata": {},
   "outputs": [
    {
     "name": "stderr",
     "output_type": "stream",
     "text": [
      "C:\\Users\\admin\\AppData\\Local\\Temp/ipykernel_1788/3323440318.py:2: DeprecationWarning: executable_path has been deprecated, please pass in a Service object\n",
      "  crawler = webdriver.Chrome(f'./{chrome_ver}/chromedriver.exe')\n"
     ]
    }
   ],
   "source": [
    "try:\n",
    "    crawler = webdriver.Chrome(f'./{chrome_ver}/chromedriver.exe')\n",
    "except:\n",
    "    chromedriver_autoinstaller.insrall(True)\n",
    "    crawler = webdriver.Chrome(f'./{chrome_ver}/chromedriver.exe')\n",
    "crawler.implicitly_wait(10)  # timesleep이랑 비슷한 명령어\n",
    "\n",
    "# 올리브영 메인화면\n",
    "crawler.get('https://www.oliveyoung.co.kr/store/main/main.do?oy=0') "
   ]
  },
  {
   "cell_type": "code",
   "execution_count": 12,
   "id": "044540e0-fac3-4cf1-94af-fa3e76f7d98f",
   "metadata": {},
   "outputs": [],
   "source": [
    "# 올리브영에서 카테고리 클릭\n",
    "crawler.find_element('xpath', '//*[@id=\"btnGnbOpen\"]').click()\n",
    "# 스킨케어 클릭\n",
    "crawler.find_element('xpath', '//*[@id=\"gnbAllMenu\"]/ul/li[1]/div[1]/p[1]/a').click()\n",
    "# 토너/로션/올인원 클릭\n",
    "crawler.find_element('xpath', '//*[@id=\"Contents\"]/div/div[1]/ul/li[1]/a/span').click()\n",
    "# 인기순 클릭\n",
    "crawler.find_element('xpath', '//*[@id=\"Contents\"]/div[5]/div[1]/ul/li[1]/a').click()\n",
    "# 별점있는 카테고리 클릭\n",
    "crawler.find_element('xpath', '//*[@id=\"Contents\"]/div[5]/div[3]/button[2]').click()"
   ]
  },
  {
   "cell_type": "code",
   "execution_count": null,
   "id": "11639589-23c8-4a0d-b443-53cfaade1e93",
   "metadata": {},
   "outputs": [
    {
     "name": "stdout",
     "output_type": "stream",
     "text": [
      "3848\n",
      "No Sale\n",
      "No Sale\n",
      "3848\n",
      "No Sale\n",
      "No Sale\n",
      "No Sale\n",
      "No Sale\n",
      "No Sale\n",
      "No Sale\n",
      "3848\n",
      "No Sale\n"
     ]
    }
   ],
   "source": [
    "## 원본\n",
    "\n",
    "brands = []\n",
    "pnames = []\n",
    "pprices = []\n",
    "prices = []\n",
    "stars = []\n",
    "\n",
    "# 페이지 넘기기 : 페이지 넘어가면서 스크롤바 조정\n",
    "for i in range(1, 35):\n",
    "    crawler.get('https://www.oliveyoung.co.kr/store/display/getMCategoryList.do?dispCatNo=100000100010008&fltDispCatNo=&prdSort=01&pageIdx={0}&rowsPerPage=24&searchTypeSort=btn_thumb&plusButtonFlag=N&isLoginCnt=0&aShowCnt=0&bShowCnt=0&cShowCnt=0&trackingCd=Cat100000100010008_Small'.format(i))\n",
    "                \n",
    "    while True:\n",
    "        bh = crawler.execute_script('return document.body.scrollHeight') # 브라우저 상의 처음 높이 \n",
    "        print(bh) \n",
    "        time.sleep(4)\n",
    "        crawler.execute_script('window.scrollTo(0, document.body.scrollHeight)') # 스크롤 내리기\n",
    "        time.sleep(2)\n",
    "        ah = crawler.execute_script('return document.body.scrollHeight') \n",
    "        if ah == bh:\n",
    "            break\n",
    "        bh = ah\n",
    "    infos = crawler.find_elements(By.CSS_SELECTOR, '.prd_info')\n",
    "    for info in infos:\n",
    "        try:\n",
    "            brand = info.find_element(By.CSS_SELECTOR,'.tx_brand').text\n",
    "            brands.append(brand)\n",
    "            pname = info.find_element(By.CSS_SELECTOR,'.tx_name').text\n",
    "            pnames.append(pname)\n",
    "            pprice = info.find_element(By.CSS_SELECTOR,'.tx_org').text  #(원가) : 가격(원가+할인: 같이 추출, 이유: 누락되면 같이 누락됌)은 전처리 과정에서 슬라이싱 하기\n",
    "            pprices.append(pprice)\n",
    "            price = info.find_element(By.CSS_SELECTOR,'.tx_cur').text  # 현재가 : 항상있는 것(제외하면 안됌)\n",
    "            prices.append(price)\n",
    "            star = info.find_element(By.CSS_SELECTOR,'.review_point').text\n",
    "            stars.append(star)\n",
    "\n",
    "        except:\n",
    "            price = info.find_element(By.CSS_SELECTOR,'.prd_price').text  \n",
    "            prices.append(price)\n",
    "            pprices.append(\"No Sale\")\n",
    "            print(\"No Sale\")  # 할인 안하는 제품\n",
    "\n",
    "crawler.close()"
   ]
  },
  {
   "cell_type": "code",
   "execution_count": null,
   "id": "7a25af19-ce88-4188-909e-81817c0b86a8",
   "metadata": {},
   "outputs": [],
   "source": [
    "# 데이터 프레임 key들끼리 행 길이 같아야 함\n",
    "ddf = pd.DataFrame({'brand':brands, 'pprice':pprices, 'price':prices, 'pname':pnames})\n",
    "print(ddf)"
   ]
  },
  {
   "cell_type": "code",
   "execution_count": null,
   "id": "3d80ea9f-8cb2-4d08-8770-cdf3b90dfa13",
   "metadata": {},
   "outputs": [],
   "source": [
    "# 데이터 프레임 엑셀로 저장, utf-8-isg, csv는 sep 은 ,로 구분 => 파일 안깨짐\n",
    "ddf.to_csv('./best_cosmetic22.csv', sep = ',', encoding = 'utf-8-sig')"
   ]
  },
  {
   "cell_type": "code",
   "execution_count": null,
   "id": "00aa3148-2901-439f-92db-5f246f8294bc",
   "metadata": {},
   "outputs": [],
   "source": []
  },
  {
   "cell_type": "code",
   "execution_count": null,
   "id": "70914e84-3567-4fa2-9ab9-2c5734aca6c6",
   "metadata": {},
   "outputs": [],
   "source": []
  },
  {
   "cell_type": "code",
   "execution_count": null,
   "id": "438d9173-83b2-4b71-8fdb-c9394d92c827",
   "metadata": {},
   "outputs": [],
   "source": []
  },
  {
   "cell_type": "code",
   "execution_count": null,
   "id": "0248d05a-a2c8-44c0-b53f-f96b3c0751a3",
   "metadata": {},
   "outputs": [],
   "source": []
  }
 ],
 "metadata": {
  "kernelspec": {
   "display_name": "Python 3 (ipykernel)",
   "language": "python",
   "name": "python3"
  },
  "language_info": {
   "codemirror_mode": {
    "name": "ipython",
    "version": 3
   },
   "file_extension": ".py",
   "mimetype": "text/x-python",
   "name": "python",
   "nbconvert_exporter": "python",
   "pygments_lexer": "ipython3",
   "version": "3.9.7"
  }
 },
 "nbformat": 4,
 "nbformat_minor": 5
}
