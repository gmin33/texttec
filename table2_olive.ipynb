{
 "cells": [
  {
   "cell_type": "markdown",
   "id": "2ab7728b-db4a-48ec-8b28-104b67fc97ee",
   "metadata": {},
   "source": [
    "## 필수라이브러리 로딩"
   ]
  },
  {
   "cell_type": "code",
   "execution_count": 1,
   "id": "95465002-80ce-4d45-a8cf-d28ba4e16051",
   "metadata": {},
   "outputs": [],
   "source": [
    "# 필수 라이브러리 로딩\n",
    "from selenium import webdriver\n",
    "from selenium.webdriver.chrome.service import Service\n",
    "from selenium.webdriver.common.by import By\n",
    "import csv\n",
    "import time"
   ]
  },
  {
   "cell_type": "code",
   "execution_count": 3,
   "id": "7876a977-90ef-4b8f-b784-1099d10a5a74",
   "metadata": {},
   "outputs": [],
   "source": [
    "# driver 설정\n",
    "URL = 'https://www.oliveyoung.co.kr/store/main/main.do?oy=0' # 첫화면\n",
    "ops = webdriver.ChromeOptions()\n",
    "ops.add_experimental_option('excludeSwitches', ['enable-logging'])\n",
    "\n",
    "sv = Service(executable_path= 'C:\\\\Users\\\\admin\\\\Downloads\\\\chroemdriver')\n",
    "driver = webdriver.Chrome(service=sv, options=ops)\n",
    "\n",
    "driver.get(url=URL)"
   ]
  },
  {
   "cell_type": "code",
   "execution_count": null,
   "id": "22972b91-acb5-40a5-b873-dc7d35d0d5cc",
   "metadata": {},
   "outputs": [],
   "source": []
  },
  {
   "cell_type": "code",
   "execution_count": 4,
   "id": "f7339170-7e9f-47f1-be00-3a23b1d4df7c",
   "metadata": {},
   "outputs": [],
   "source": [
    "## 스킨케어\n",
    "a = 'https://www.oliveyoung.co.kr/store/display/getCategoryShop.do?dispCatNo=10000010001'\n",
    "## 마스크팩\n",
    "b = 'https://www.oliveyoung.co.kr/store/display/getCategoryShop.do?dispCatNo=10000010009&gateCd=Drawer'\n",
    "## 클렌징\n",
    "c = 'https://www.oliveyoung.co.kr/store/display/getCategoryShop.do?dispCatNo=10000010010&gateCd=Drawer'\n",
    "## 선케어\n",
    "d = 'https://www.oliveyoung.co.kr/store/display/getCategoryShop.do?dispCatNo=10000010011&gateCd=Drawer'"
   ]
  },
  {
   "cell_type": "code",
   "execution_count": 7,
   "id": "874c31d7-59d6-450b-86b0-cf7f7c777311",
   "metadata": {},
   "outputs": [
    {
     "name": "stdout",
     "output_type": "stream",
     "text": [
      "__1__\n",
      "__2__\n",
      "__3__\n",
      "__4__\n",
      "__5__\n",
      "__6__\n",
      "__7__\n",
      "__8__\n",
      "__9__\n",
      "__10__\n",
      "__11__\n",
      "__12__\n",
      "__13__\n",
      "__14__\n",
      "__15__\n",
      "__16__\n",
      "__17__\n",
      "__18__\n",
      "__19__\n",
      "__20__\n",
      "__1__\n",
      "__2__\n",
      "__3__\n",
      "__4__\n",
      "__5__\n",
      "__6__\n",
      "__7__\n",
      "__8__\n",
      "__9__\n",
      "__10__\n",
      "__11__\n",
      "__12__\n",
      "__13__\n",
      "__14__\n",
      "__15__\n",
      "__16__\n",
      "__17__\n",
      "__18__\n",
      "__19__\n",
      "__20__\n",
      "__1__\n",
      "__2__\n",
      "__3__\n",
      "__4__\n",
      "__5__\n",
      "__6__\n",
      "__7__\n",
      "__8__\n",
      "__9__\n",
      "__10__\n",
      "__11__\n",
      "__12__\n",
      "__13__\n",
      "__14__\n",
      "__15__\n",
      "__16__\n",
      "__17__\n",
      "__18__\n",
      "__19__\n",
      "__20__\n",
      "__1__\n",
      "__2__\n",
      "__3__\n",
      "__4__\n"
     ]
    },
    {
     "ename": "NoSuchElementException",
     "evalue": "Message: no such element: Unable to locate element: {\"method\":\"xpath\",\"selector\":\"//*[@id=\"gdasList\"]/li[5]/div[2]/div[1]/span[1]/span\"}\n  (Session info: chrome=109.0.5414.75)\nStacktrace:\nBacktrace:\n\t(No symbol) [0x004C6643]\n\t(No symbol) [0x0045BE21]\n\t(No symbol) [0x0035DA9D]\n\t(No symbol) [0x00391342]\n\t(No symbol) [0x0039147B]\n\t(No symbol) [0x003C8DC2]\n\t(No symbol) [0x003AFDC4]\n\t(No symbol) [0x003C6B09]\n\t(No symbol) [0x003AFB76]\n\t(No symbol) [0x003849C1]\n\t(No symbol) [0x00385E5D]\n\tGetHandleVerifier [0x0073A142+2497106]\n\tGetHandleVerifier [0x007685D3+2686691]\n\tGetHandleVerifier [0x0076BB9C+2700460]\n\tGetHandleVerifier [0x00573B10+635936]\n\t(No symbol) [0x00464A1F]\n\t(No symbol) [0x0046A418]\n\t(No symbol) [0x0046A505]\n\t(No symbol) [0x0047508B]\n\tBaseThreadInitThunk [0x776400F9+25]\n\tRtlGetAppContainerNamedObjectPath [0x779E7BBE+286]\n\tRtlGetAppContainerNamedObjectPath [0x779E7B8E+238]\n",
     "output_type": "error",
     "traceback": [
      "\u001b[1;31m---------------------------------------------------------------------------\u001b[0m",
      "\u001b[1;31mNoSuchElementException\u001b[0m                    Traceback (most recent call last)",
      "\u001b[1;32m~\\AppData\\Local\\Temp/ipykernel_17728/1749258385.py\u001b[0m in \u001b[0;36m<module>\u001b[1;34m\u001b[0m\n\u001b[0;32m     21\u001b[0m \u001b[1;33m\u001b[0m\u001b[0m\n\u001b[0;32m     22\u001b[0m                 \u001b[0mpname\u001b[0m \u001b[1;33m=\u001b[0m \u001b[0mdriver\u001b[0m\u001b[1;33m.\u001b[0m\u001b[0mfind_element\u001b[0m\u001b[1;33m(\u001b[0m\u001b[0mBy\u001b[0m\u001b[1;33m.\u001b[0m\u001b[0mXPATH\u001b[0m\u001b[1;33m,\u001b[0m\u001b[1;34m'//*[@id=\"Contents\"]/div[2]/div[2]/div/p[2]'\u001b[0m\u001b[1;33m)\u001b[0m\u001b[1;33m.\u001b[0m\u001b[0mtext\u001b[0m\u001b[1;33m\u001b[0m\u001b[1;33m\u001b[0m\u001b[0m\n\u001b[1;32m---> 23\u001b[1;33m                 \u001b[0mrstar\u001b[0m \u001b[1;33m=\u001b[0m \u001b[0mdriver\u001b[0m\u001b[1;33m.\u001b[0m\u001b[0mfind_element\u001b[0m\u001b[1;33m(\u001b[0m\u001b[0mBy\u001b[0m\u001b[1;33m.\u001b[0m\u001b[0mXPATH\u001b[0m\u001b[1;33m,\u001b[0m \u001b[1;34mf'//*[@id=\"gdasList\"]/li[{n}]/div[2]/div[1]/span[1]/span'\u001b[0m\u001b[1;33m)\u001b[0m\u001b[1;33m.\u001b[0m\u001b[0mtext\u001b[0m\u001b[1;33m\u001b[0m\u001b[1;33m\u001b[0m\u001b[0m\n\u001b[0m\u001b[0;32m     24\u001b[0m                 \u001b[0mkeyword\u001b[0m \u001b[1;33m=\u001b[0m \u001b[0mdriver\u001b[0m\u001b[1;33m.\u001b[0m\u001b[0mfind_element\u001b[0m\u001b[1;33m(\u001b[0m\u001b[0mBy\u001b[0m\u001b[1;33m.\u001b[0m\u001b[0mXPATH\u001b[0m\u001b[1;33m,\u001b[0m \u001b[1;34mf'//*[@id=\"gdasList\"]/li[{n}]/div[2]/div[2]'\u001b[0m\u001b[1;33m)\u001b[0m\u001b[1;33m.\u001b[0m\u001b[0mtext\u001b[0m\u001b[1;33m\u001b[0m\u001b[1;33m\u001b[0m\u001b[0m\n\u001b[0;32m     25\u001b[0m                 \u001b[0mrtext\u001b[0m \u001b[1;33m=\u001b[0m \u001b[0mdriver\u001b[0m\u001b[1;33m.\u001b[0m\u001b[0mfind_element\u001b[0m\u001b[1;33m(\u001b[0m\u001b[0mBy\u001b[0m\u001b[1;33m.\u001b[0m\u001b[0mXPATH\u001b[0m\u001b[1;33m,\u001b[0m \u001b[1;34mf'//*[@id=\"gdasList\"]/li[{n}]/div[2]/div[3]'\u001b[0m\u001b[1;33m)\u001b[0m\u001b[1;33m.\u001b[0m\u001b[0mtext\u001b[0m\u001b[1;33m\u001b[0m\u001b[1;33m\u001b[0m\u001b[0m\n",
      "\u001b[1;32mC:\\Anaconda3\\lib\\site-packages\\selenium\\webdriver\\remote\\webdriver.py\u001b[0m in \u001b[0;36mfind_element\u001b[1;34m(self, by, value)\u001b[0m\n\u001b[0;32m    859\u001b[0m             \u001b[0mvalue\u001b[0m \u001b[1;33m=\u001b[0m \u001b[1;34m'[name=\"%s\"]'\u001b[0m \u001b[1;33m%\u001b[0m \u001b[0mvalue\u001b[0m\u001b[1;33m\u001b[0m\u001b[1;33m\u001b[0m\u001b[0m\n\u001b[0;32m    860\u001b[0m \u001b[1;33m\u001b[0m\u001b[0m\n\u001b[1;32m--> 861\u001b[1;33m         \u001b[1;32mreturn\u001b[0m \u001b[0mself\u001b[0m\u001b[1;33m.\u001b[0m\u001b[0mexecute\u001b[0m\u001b[1;33m(\u001b[0m\u001b[0mCommand\u001b[0m\u001b[1;33m.\u001b[0m\u001b[0mFIND_ELEMENT\u001b[0m\u001b[1;33m,\u001b[0m \u001b[1;33m{\u001b[0m\u001b[1;34m\"using\"\u001b[0m\u001b[1;33m:\u001b[0m \u001b[0mby\u001b[0m\u001b[1;33m,\u001b[0m \u001b[1;34m\"value\"\u001b[0m\u001b[1;33m:\u001b[0m \u001b[0mvalue\u001b[0m\u001b[1;33m}\u001b[0m\u001b[1;33m)\u001b[0m\u001b[1;33m[\u001b[0m\u001b[1;34m\"value\"\u001b[0m\u001b[1;33m]\u001b[0m\u001b[1;33m\u001b[0m\u001b[1;33m\u001b[0m\u001b[0m\n\u001b[0m\u001b[0;32m    862\u001b[0m \u001b[1;33m\u001b[0m\u001b[0m\n\u001b[0;32m    863\u001b[0m     \u001b[1;32mdef\u001b[0m \u001b[0mfind_elements\u001b[0m\u001b[1;33m(\u001b[0m\u001b[0mself\u001b[0m\u001b[1;33m,\u001b[0m \u001b[0mby\u001b[0m\u001b[1;33m=\u001b[0m\u001b[0mBy\u001b[0m\u001b[1;33m.\u001b[0m\u001b[0mID\u001b[0m\u001b[1;33m,\u001b[0m \u001b[0mvalue\u001b[0m\u001b[1;33m:\u001b[0m \u001b[0mOptional\u001b[0m\u001b[1;33m[\u001b[0m\u001b[0mstr\u001b[0m\u001b[1;33m]\u001b[0m \u001b[1;33m=\u001b[0m \u001b[1;32mNone\u001b[0m\u001b[1;33m)\u001b[0m \u001b[1;33m->\u001b[0m \u001b[0mList\u001b[0m\u001b[1;33m[\u001b[0m\u001b[0mWebElement\u001b[0m\u001b[1;33m]\u001b[0m\u001b[1;33m:\u001b[0m\u001b[1;33m\u001b[0m\u001b[1;33m\u001b[0m\u001b[0m\n",
      "\u001b[1;32mC:\\Anaconda3\\lib\\site-packages\\selenium\\webdriver\\remote\\webdriver.py\u001b[0m in \u001b[0;36mexecute\u001b[1;34m(self, driver_command, params)\u001b[0m\n\u001b[0;32m    442\u001b[0m         \u001b[0mresponse\u001b[0m \u001b[1;33m=\u001b[0m \u001b[0mself\u001b[0m\u001b[1;33m.\u001b[0m\u001b[0mcommand_executor\u001b[0m\u001b[1;33m.\u001b[0m\u001b[0mexecute\u001b[0m\u001b[1;33m(\u001b[0m\u001b[0mdriver_command\u001b[0m\u001b[1;33m,\u001b[0m \u001b[0mparams\u001b[0m\u001b[1;33m)\u001b[0m\u001b[1;33m\u001b[0m\u001b[1;33m\u001b[0m\u001b[0m\n\u001b[0;32m    443\u001b[0m         \u001b[1;32mif\u001b[0m \u001b[0mresponse\u001b[0m\u001b[1;33m:\u001b[0m\u001b[1;33m\u001b[0m\u001b[1;33m\u001b[0m\u001b[0m\n\u001b[1;32m--> 444\u001b[1;33m             \u001b[0mself\u001b[0m\u001b[1;33m.\u001b[0m\u001b[0merror_handler\u001b[0m\u001b[1;33m.\u001b[0m\u001b[0mcheck_response\u001b[0m\u001b[1;33m(\u001b[0m\u001b[0mresponse\u001b[0m\u001b[1;33m)\u001b[0m\u001b[1;33m\u001b[0m\u001b[1;33m\u001b[0m\u001b[0m\n\u001b[0m\u001b[0;32m    445\u001b[0m             \u001b[0mresponse\u001b[0m\u001b[1;33m[\u001b[0m\u001b[1;34m\"value\"\u001b[0m\u001b[1;33m]\u001b[0m \u001b[1;33m=\u001b[0m \u001b[0mself\u001b[0m\u001b[1;33m.\u001b[0m\u001b[0m_unwrap_value\u001b[0m\u001b[1;33m(\u001b[0m\u001b[0mresponse\u001b[0m\u001b[1;33m.\u001b[0m\u001b[0mget\u001b[0m\u001b[1;33m(\u001b[0m\u001b[1;34m\"value\"\u001b[0m\u001b[1;33m,\u001b[0m \u001b[1;32mNone\u001b[0m\u001b[1;33m)\u001b[0m\u001b[1;33m)\u001b[0m\u001b[1;33m\u001b[0m\u001b[1;33m\u001b[0m\u001b[0m\n\u001b[0;32m    446\u001b[0m             \u001b[1;32mreturn\u001b[0m \u001b[0mresponse\u001b[0m\u001b[1;33m\u001b[0m\u001b[1;33m\u001b[0m\u001b[0m\n",
      "\u001b[1;32mC:\\Anaconda3\\lib\\site-packages\\selenium\\webdriver\\remote\\errorhandler.py\u001b[0m in \u001b[0;36mcheck_response\u001b[1;34m(self, response)\u001b[0m\n\u001b[0;32m    247\u001b[0m                 \u001b[0malert_text\u001b[0m \u001b[1;33m=\u001b[0m \u001b[0mvalue\u001b[0m\u001b[1;33m[\u001b[0m\u001b[1;34m\"alert\"\u001b[0m\u001b[1;33m]\u001b[0m\u001b[1;33m.\u001b[0m\u001b[0mget\u001b[0m\u001b[1;33m(\u001b[0m\u001b[1;34m\"text\"\u001b[0m\u001b[1;33m)\u001b[0m\u001b[1;33m\u001b[0m\u001b[1;33m\u001b[0m\u001b[0m\n\u001b[0;32m    248\u001b[0m             \u001b[1;32mraise\u001b[0m \u001b[0mexception_class\u001b[0m\u001b[1;33m(\u001b[0m\u001b[0mmessage\u001b[0m\u001b[1;33m,\u001b[0m \u001b[0mscreen\u001b[0m\u001b[1;33m,\u001b[0m \u001b[0mstacktrace\u001b[0m\u001b[1;33m,\u001b[0m \u001b[0malert_text\u001b[0m\u001b[1;33m)\u001b[0m  \u001b[1;31m# type: ignore[call-arg]  # mypy is not smart enough here\u001b[0m\u001b[1;33m\u001b[0m\u001b[1;33m\u001b[0m\u001b[0m\n\u001b[1;32m--> 249\u001b[1;33m         \u001b[1;32mraise\u001b[0m \u001b[0mexception_class\u001b[0m\u001b[1;33m(\u001b[0m\u001b[0mmessage\u001b[0m\u001b[1;33m,\u001b[0m \u001b[0mscreen\u001b[0m\u001b[1;33m,\u001b[0m \u001b[0mstacktrace\u001b[0m\u001b[1;33m)\u001b[0m\u001b[1;33m\u001b[0m\u001b[1;33m\u001b[0m\u001b[0m\n\u001b[0m",
      "\u001b[1;31mNoSuchElementException\u001b[0m: Message: no such element: Unable to locate element: {\"method\":\"xpath\",\"selector\":\"//*[@id=\"gdasList\"]/li[5]/div[2]/div[1]/span[1]/span\"}\n  (Session info: chrome=109.0.5414.75)\nStacktrace:\nBacktrace:\n\t(No symbol) [0x004C6643]\n\t(No symbol) [0x0045BE21]\n\t(No symbol) [0x0035DA9D]\n\t(No symbol) [0x00391342]\n\t(No symbol) [0x0039147B]\n\t(No symbol) [0x003C8DC2]\n\t(No symbol) [0x003AFDC4]\n\t(No symbol) [0x003C6B09]\n\t(No symbol) [0x003AFB76]\n\t(No symbol) [0x003849C1]\n\t(No symbol) [0x00385E5D]\n\tGetHandleVerifier [0x0073A142+2497106]\n\tGetHandleVerifier [0x007685D3+2686691]\n\tGetHandleVerifier [0x0076BB9C+2700460]\n\tGetHandleVerifier [0x00573B10+635936]\n\t(No symbol) [0x00464A1F]\n\t(No symbol) [0x0046A418]\n\t(No symbol) [0x0046A505]\n\t(No symbol) [0x0047508B]\n\tBaseThreadInitThunk [0x776400F9+25]\n\tRtlGetAppContainerNamedObjectPath [0x779E7BBE+286]\n\tRtlGetAppContainerNamedObjectPath [0x779E7B8E+238]\n"
     ]
    }
   ],
   "source": [
    "\n",
    "## 파일쓰기\n",
    "csv_filename = 'gicho_rv1.csv' # 스킨케어_토너/로션/올인원\n",
    "csv_open = open(csv_filename, 'w+', encoding = 'utf-8')\n",
    "csv_writer = csv.writer(csv_open)\n",
    "csv_writer.writerow(('pname','rstar','keyword','rtext'))\n",
    "\n",
    "cateList = [a, b, c]\n",
    "\n",
    "for idx, n in enumerate(cateList):\n",
    "    # 구하고자하는 카테고리 들어가기\n",
    "    driver.get(url = n) # 스킨케어 페이지\n",
    "# 다른 페이지 클릭하기 \n",
    "    driver.find_element(By.XPATH,f'//*[@id=\"Contents\"]/div/div[1]/ul/li[{idx+1}]/a').click()\n",
    "    time.sleep(2)\n",
    "    for i in range(1, 4):\n",
    "        for j in range(1,5):\n",
    "            driver.find_element(By.XPATH,f'//*[@id=\"Contents\"]/ul[{i+1}]/li[{j}]/div/a/img').click()\n",
    "            driver.find_element(By.XPATH,f'//*[@id=\"reviewInfo\"]/a').click()\n",
    "            time.sleep(3)\n",
    "            for n in range(1,11):\n",
    "                \n",
    "                pname = driver.find_element(By.XPATH,'//*[@id=\"Contents\"]/div[2]/div[2]/div/p[2]').text\n",
    "                rstar = driver.find_element(By.XPATH, f'//*[@id=\"gdasList\"]/li[{n}]/div[2]/div[1]/span[1]/span').text\n",
    "                keyword = driver.find_element(By.XPATH, f'//*[@id=\"gdasList\"]/li[{n}]/div[2]/div[2]').text\n",
    "                rtext = driver.find_element(By.XPATH, f'//*[@id=\"gdasList\"]/li[{n}]/div[2]/div[3]').text\n",
    "                csv_writer.writerow((pname, rstar, keyword,rtext))\n",
    "                print(f'__{n}__')\n",
    "            # 최신순 리뷰 접근\n",
    "            driver.find_element(By.XPATH, '//*[@id=\"gdasSort\"]/li[3]/a').click()\n",
    "            time.sleep(3)\n",
    "            for n in range(1,11):\n",
    "                \n",
    "                pname = driver.find_element(By.XPATH,'//*[@id=\"Contents\"]/div[2]/div[2]/div/p[2]').text\n",
    "                rstar = driver.find_element(By.XPATH, f'//*[@id=\"gdasList\"]/li[{n}]/div[2]/div[1]/span[1]/span').text\n",
    "                keyword = driver.find_element(By.XPATH, f'//*[@id=\"gdasList\"]/li[{n}]/div[2]/div[2]').text\n",
    "                rtext = driver.find_element(By.XPATH, f'//*[@id=\"gdasList\"]/li[{n}]/div[2]/div[3]').text\n",
    "                csv_writer.writerow((pname, rstar, keyword,rtext))\n",
    "                print(f'__{n+10}__')\n",
    "            driver.back()"
   ]
  },
  {
   "cell_type": "markdown",
   "id": "27275578-392a-4798-bf43-aa96b291d870",
   "metadata": {},
   "source": [
    "- 전체 리뷰수가 4개인것때문에 멈춤\n",
    "- 그래서 그냥 전체 리뷰 10개씩만 뽑아올건데,, 리뷰수가 10개가 안되면 있는만큼만 가져올거야. "
   ]
  },
  {
   "cell_type": "code",
   "execution_count": null,
   "id": "3db6bf82-b1de-449d-9d48-e574cdde79f0",
   "metadata": {},
   "outputs": [],
   "source": [
    "driver.get(url = d)  \n",
    "for k in range(1, 3):\n",
    "    driver.find_element(By.XPATH,f'//*[@id=\"Contents\"]/div/div[1]/ul/li[{k}]/a').click()\n",
    "    for i in range(1, 4):\n",
    "        for j in range(1,5):\n",
    "            driver.find_element(By.XPATH,f'//*[@id=\"Contents\"]/ul[{i+1}]/li[{j}]/div/a/img').click()\n",
    "            driver.find_element(By.XPATH,f'//*[@id=\"reviewInfo\"]/a').click()\n",
    "            time.sleep(2)\n",
    "            for n in range(1,11):\n",
    "                print(f'__{n}__')\n",
    "                pname = driver.find_element(By.XPATH,'//*[@id=\"Contents\"]/div[2]/div[2]/div/p[2]').text\n",
    "                rstar = driver.find_element(By.XPATH, f'//*[@id=\"gdasList\"]/li[{n}]/div[2]/div[1]/span[1]/span').text\n",
    "                keyword = driver.find_element(By.XPATH, f'//*[@id=\"gdasList\"]/li[{n}]/div[2]/div[2]').text\n",
    "                rtext = driver.find_element(By.XPATH, f'//*[@id=\"gdasList\"]/li[{n}]/div[2]/div[3]').text\n",
    "                csv_writer.writerow((pname, rstar, keyword,rtext))\n",
    "            # 최신순 리뷰 접근\n",
    "            driver.find_element(By.XPATH, '//*[@id=\"gdasSort\"]/li[3]/a').click()\n",
    "            time.sleep(2)\n",
    "            for n in range(1,11):\n",
    "                print(f'__{n+10}__')\n",
    "                pname = driver.find_element(By.XPATH,'//*[@id=\"Contents\"]/div[2]/div[2]/div/p[2]').text\n",
    "                rstar = driver.find_element(By.XPATH, f'//*[@id=\"gdasList\"]/li[{n}]/div[2]/div[1]/span[1]/span').text\n",
    "                keyword = driver.find_element(By.XPATH, f'//*[@id=\"gdasList\"]/li[{n}]/div[2]/div[2]').text\n",
    "                rtext = driver.find_element(By.XPATH, f'//*[@id=\"gdasList\"]/li[{n}]/div[2]/div[3]').text\n",
    "                csv_writer.writerow((pname, rstar, keyword,rtext))\n",
    "                driver.back()\n",
    "                \n",
    "# 파일 작성완료\n",
    "csv_open.close()\n",
    "driver.close() # 드라이버 종료"
   ]
  },
  {
   "cell_type": "code",
   "execution_count": 22,
   "id": "4c88b787-93d4-4447-90be-e384b2f03e97",
   "metadata": {},
   "outputs": [
    {
     "name": "stdout",
     "output_type": "stream",
     "text": [
      "5\n"
     ]
    }
   ],
   "source": [
    "x = driver.find_element(By.XPATH, '//*[@id=\"gdasContentsArea\"]/div/div[2]/div/div[2]/p[1]/em').text\n",
    "print(len(x))"
   ]
  },
  {
   "cell_type": "code",
   "execution_count": 35,
   "id": "be4ee939-014a-4142-9f9b-91592fdba854",
   "metadata": {},
   "outputs": [
    {
     "name": "stdout",
     "output_type": "stream",
     "text": [
      "<class 'int'>\n"
     ]
    }
   ],
   "source": [
    "x = int(driver.find_element(By.XPATH, '//*[@id=\"repReview\"]/em').text[1:-2])\n",
    "#x = x[1:-2]\n",
    "print(type(x))"
   ]
  },
  {
   "cell_type": "code",
   "execution_count": null,
   "id": "a3fb7f75-2ae0-4878-a57c-e366c46eadbf",
   "metadata": {},
   "outputs": [],
   "source": [
    "for n in range(1, n+1):"
   ]
  },
  {
   "cell_type": "markdown",
   "id": "39603c37-8187-47bb-bb20-a86a81d60baa",
   "metadata": {},
   "source": [
    "## 각 리뷰 10개씩만\n",
    "- 10보다 작다면 그 개수만큼만 가져오기"
   ]
  },
  {
   "cell_type": "code",
   "execution_count": 40,
   "id": "c9ec34f9-2ef7-46d7-8b1b-9761bc50c67f",
   "metadata": {},
   "outputs": [
    {
     "name": "stdout",
     "output_type": "stream",
     "text": [
      "__(1, 1)__\n",
      "__(1, 2)__\n",
      "__(1, 3)__\n",
      "__(1, 4)__\n",
      "__(2, 1)__\n",
      "__(2, 2)__\n",
      "__(2, 3)__\n",
      "__(2, 4)__\n",
      "__(3, 1)__\n",
      "__(3, 2)__\n",
      "__(3, 3)__\n",
      "__(3, 4)__\n",
      "__(1, 1)__\n",
      "__(1, 2)__\n",
      "__(1, 3)__\n",
      "__(1, 4)__\n",
      "__(2, 1)__\n",
      "__(2, 2)__\n",
      "__(2, 3)__\n",
      "__(2, 4)__\n",
      "__(3, 1)__\n",
      "__(3, 2)__\n",
      "__(3, 3)__\n",
      "__(3, 4)__\n"
     ]
    },
    {
     "ename": "NoSuchElementException",
     "evalue": "Message: no such element: Unable to locate element: {\"method\":\"xpath\",\"selector\":\"//*[@id=\"gdasList\"]/li[1]/div[2]/div[1]/span[1]/span\"}\n  (Session info: chrome=109.0.5414.75)\nStacktrace:\nBacktrace:\n\t(No symbol) [0x004C6643]\n\t(No symbol) [0x0045BE21]\n\t(No symbol) [0x0035DA9D]\n\t(No symbol) [0x00391342]\n\t(No symbol) [0x0039147B]\n\t(No symbol) [0x003C8DC2]\n\t(No symbol) [0x003AFDC4]\n\t(No symbol) [0x003C6B09]\n\t(No symbol) [0x003AFB76]\n\t(No symbol) [0x003849C1]\n\t(No symbol) [0x00385E5D]\n\tGetHandleVerifier [0x0073A142+2497106]\n\tGetHandleVerifier [0x007685D3+2686691]\n\tGetHandleVerifier [0x0076BB9C+2700460]\n\tGetHandleVerifier [0x00573B10+635936]\n\t(No symbol) [0x00464A1F]\n\t(No symbol) [0x0046A418]\n\t(No symbol) [0x0046A505]\n\t(No symbol) [0x0047508B]\n\tBaseThreadInitThunk [0x776400F9+25]\n\tRtlGetAppContainerNamedObjectPath [0x779E7BBE+286]\n\tRtlGetAppContainerNamedObjectPath [0x779E7B8E+238]\n",
     "output_type": "error",
     "traceback": [
      "\u001b[1;31m---------------------------------------------------------------------------\u001b[0m",
      "\u001b[1;31mNoSuchElementException\u001b[0m                    Traceback (most recent call last)",
      "\u001b[1;32m~\\AppData\\Local\\Temp/ipykernel_17728/1210762369.py\u001b[0m in \u001b[0;36m<module>\u001b[1;34m\u001b[0m\n\u001b[0;32m     25\u001b[0m             \u001b[1;32mfor\u001b[0m \u001b[0mm\u001b[0m \u001b[1;32min\u001b[0m \u001b[0mrange\u001b[0m\u001b[1;33m(\u001b[0m\u001b[1;36m1\u001b[0m\u001b[1;33m,\u001b[0m\u001b[0mn\u001b[0m\u001b[1;33m+\u001b[0m\u001b[1;36m1\u001b[0m\u001b[1;33m)\u001b[0m\u001b[1;33m:\u001b[0m\u001b[1;33m\u001b[0m\u001b[1;33m\u001b[0m\u001b[0m\n\u001b[0;32m     26\u001b[0m                 \u001b[0mpname\u001b[0m \u001b[1;33m=\u001b[0m \u001b[0mdriver\u001b[0m\u001b[1;33m.\u001b[0m\u001b[0mfind_element\u001b[0m\u001b[1;33m(\u001b[0m\u001b[0mBy\u001b[0m\u001b[1;33m.\u001b[0m\u001b[0mXPATH\u001b[0m\u001b[1;33m,\u001b[0m\u001b[1;34m'//*[@id=\"Contents\"]/div[2]/div[2]/div/p[2]'\u001b[0m\u001b[1;33m)\u001b[0m\u001b[1;33m.\u001b[0m\u001b[0mtext\u001b[0m\u001b[1;33m\u001b[0m\u001b[1;33m\u001b[0m\u001b[0m\n\u001b[1;32m---> 27\u001b[1;33m                 \u001b[0mrstar\u001b[0m \u001b[1;33m=\u001b[0m \u001b[0mdriver\u001b[0m\u001b[1;33m.\u001b[0m\u001b[0mfind_element\u001b[0m\u001b[1;33m(\u001b[0m\u001b[0mBy\u001b[0m\u001b[1;33m.\u001b[0m\u001b[0mXPATH\u001b[0m\u001b[1;33m,\u001b[0m \u001b[1;34mf'//*[@id=\"gdasList\"]/li[{m}]/div[2]/div[1]/span[1]/span'\u001b[0m\u001b[1;33m)\u001b[0m\u001b[1;33m.\u001b[0m\u001b[0mtext\u001b[0m\u001b[1;33m\u001b[0m\u001b[1;33m\u001b[0m\u001b[0m\n\u001b[0m\u001b[0;32m     28\u001b[0m                 \u001b[0mkeyword\u001b[0m \u001b[1;33m=\u001b[0m \u001b[0mdriver\u001b[0m\u001b[1;33m.\u001b[0m\u001b[0mfind_element\u001b[0m\u001b[1;33m(\u001b[0m\u001b[0mBy\u001b[0m\u001b[1;33m.\u001b[0m\u001b[0mXPATH\u001b[0m\u001b[1;33m,\u001b[0m \u001b[1;34mf'//*[@id=\"gdasList\"]/li[{m}]/div[2]/div[2]'\u001b[0m\u001b[1;33m)\u001b[0m\u001b[1;33m.\u001b[0m\u001b[0mtext\u001b[0m\u001b[1;33m\u001b[0m\u001b[1;33m\u001b[0m\u001b[0m\n\u001b[0;32m     29\u001b[0m                 \u001b[0mrtext\u001b[0m \u001b[1;33m=\u001b[0m \u001b[0mdriver\u001b[0m\u001b[1;33m.\u001b[0m\u001b[0mfind_element\u001b[0m\u001b[1;33m(\u001b[0m\u001b[0mBy\u001b[0m\u001b[1;33m.\u001b[0m\u001b[0mXPATH\u001b[0m\u001b[1;33m,\u001b[0m \u001b[1;34mf'//*[@id=\"gdasList\"]/li[{m}]/div[2]/div[3]'\u001b[0m\u001b[1;33m)\u001b[0m\u001b[1;33m.\u001b[0m\u001b[0mtext\u001b[0m\u001b[1;33m\u001b[0m\u001b[1;33m\u001b[0m\u001b[0m\n",
      "\u001b[1;32mC:\\Anaconda3\\lib\\site-packages\\selenium\\webdriver\\remote\\webdriver.py\u001b[0m in \u001b[0;36mfind_element\u001b[1;34m(self, by, value)\u001b[0m\n\u001b[0;32m    859\u001b[0m             \u001b[0mvalue\u001b[0m \u001b[1;33m=\u001b[0m \u001b[1;34m'[name=\"%s\"]'\u001b[0m \u001b[1;33m%\u001b[0m \u001b[0mvalue\u001b[0m\u001b[1;33m\u001b[0m\u001b[1;33m\u001b[0m\u001b[0m\n\u001b[0;32m    860\u001b[0m \u001b[1;33m\u001b[0m\u001b[0m\n\u001b[1;32m--> 861\u001b[1;33m         \u001b[1;32mreturn\u001b[0m \u001b[0mself\u001b[0m\u001b[1;33m.\u001b[0m\u001b[0mexecute\u001b[0m\u001b[1;33m(\u001b[0m\u001b[0mCommand\u001b[0m\u001b[1;33m.\u001b[0m\u001b[0mFIND_ELEMENT\u001b[0m\u001b[1;33m,\u001b[0m \u001b[1;33m{\u001b[0m\u001b[1;34m\"using\"\u001b[0m\u001b[1;33m:\u001b[0m \u001b[0mby\u001b[0m\u001b[1;33m,\u001b[0m \u001b[1;34m\"value\"\u001b[0m\u001b[1;33m:\u001b[0m \u001b[0mvalue\u001b[0m\u001b[1;33m}\u001b[0m\u001b[1;33m)\u001b[0m\u001b[1;33m[\u001b[0m\u001b[1;34m\"value\"\u001b[0m\u001b[1;33m]\u001b[0m\u001b[1;33m\u001b[0m\u001b[1;33m\u001b[0m\u001b[0m\n\u001b[0m\u001b[0;32m    862\u001b[0m \u001b[1;33m\u001b[0m\u001b[0m\n\u001b[0;32m    863\u001b[0m     \u001b[1;32mdef\u001b[0m \u001b[0mfind_elements\u001b[0m\u001b[1;33m(\u001b[0m\u001b[0mself\u001b[0m\u001b[1;33m,\u001b[0m \u001b[0mby\u001b[0m\u001b[1;33m=\u001b[0m\u001b[0mBy\u001b[0m\u001b[1;33m.\u001b[0m\u001b[0mID\u001b[0m\u001b[1;33m,\u001b[0m \u001b[0mvalue\u001b[0m\u001b[1;33m:\u001b[0m \u001b[0mOptional\u001b[0m\u001b[1;33m[\u001b[0m\u001b[0mstr\u001b[0m\u001b[1;33m]\u001b[0m \u001b[1;33m=\u001b[0m \u001b[1;32mNone\u001b[0m\u001b[1;33m)\u001b[0m \u001b[1;33m->\u001b[0m \u001b[0mList\u001b[0m\u001b[1;33m[\u001b[0m\u001b[0mWebElement\u001b[0m\u001b[1;33m]\u001b[0m\u001b[1;33m:\u001b[0m\u001b[1;33m\u001b[0m\u001b[1;33m\u001b[0m\u001b[0m\n",
      "\u001b[1;32mC:\\Anaconda3\\lib\\site-packages\\selenium\\webdriver\\remote\\webdriver.py\u001b[0m in \u001b[0;36mexecute\u001b[1;34m(self, driver_command, params)\u001b[0m\n\u001b[0;32m    442\u001b[0m         \u001b[0mresponse\u001b[0m \u001b[1;33m=\u001b[0m \u001b[0mself\u001b[0m\u001b[1;33m.\u001b[0m\u001b[0mcommand_executor\u001b[0m\u001b[1;33m.\u001b[0m\u001b[0mexecute\u001b[0m\u001b[1;33m(\u001b[0m\u001b[0mdriver_command\u001b[0m\u001b[1;33m,\u001b[0m \u001b[0mparams\u001b[0m\u001b[1;33m)\u001b[0m\u001b[1;33m\u001b[0m\u001b[1;33m\u001b[0m\u001b[0m\n\u001b[0;32m    443\u001b[0m         \u001b[1;32mif\u001b[0m \u001b[0mresponse\u001b[0m\u001b[1;33m:\u001b[0m\u001b[1;33m\u001b[0m\u001b[1;33m\u001b[0m\u001b[0m\n\u001b[1;32m--> 444\u001b[1;33m             \u001b[0mself\u001b[0m\u001b[1;33m.\u001b[0m\u001b[0merror_handler\u001b[0m\u001b[1;33m.\u001b[0m\u001b[0mcheck_response\u001b[0m\u001b[1;33m(\u001b[0m\u001b[0mresponse\u001b[0m\u001b[1;33m)\u001b[0m\u001b[1;33m\u001b[0m\u001b[1;33m\u001b[0m\u001b[0m\n\u001b[0m\u001b[0;32m    445\u001b[0m             \u001b[0mresponse\u001b[0m\u001b[1;33m[\u001b[0m\u001b[1;34m\"value\"\u001b[0m\u001b[1;33m]\u001b[0m \u001b[1;33m=\u001b[0m \u001b[0mself\u001b[0m\u001b[1;33m.\u001b[0m\u001b[0m_unwrap_value\u001b[0m\u001b[1;33m(\u001b[0m\u001b[0mresponse\u001b[0m\u001b[1;33m.\u001b[0m\u001b[0mget\u001b[0m\u001b[1;33m(\u001b[0m\u001b[1;34m\"value\"\u001b[0m\u001b[1;33m,\u001b[0m \u001b[1;32mNone\u001b[0m\u001b[1;33m)\u001b[0m\u001b[1;33m)\u001b[0m\u001b[1;33m\u001b[0m\u001b[1;33m\u001b[0m\u001b[0m\n\u001b[0;32m    446\u001b[0m             \u001b[1;32mreturn\u001b[0m \u001b[0mresponse\u001b[0m\u001b[1;33m\u001b[0m\u001b[1;33m\u001b[0m\u001b[0m\n",
      "\u001b[1;32mC:\\Anaconda3\\lib\\site-packages\\selenium\\webdriver\\remote\\errorhandler.py\u001b[0m in \u001b[0;36mcheck_response\u001b[1;34m(self, response)\u001b[0m\n\u001b[0;32m    247\u001b[0m                 \u001b[0malert_text\u001b[0m \u001b[1;33m=\u001b[0m \u001b[0mvalue\u001b[0m\u001b[1;33m[\u001b[0m\u001b[1;34m\"alert\"\u001b[0m\u001b[1;33m]\u001b[0m\u001b[1;33m.\u001b[0m\u001b[0mget\u001b[0m\u001b[1;33m(\u001b[0m\u001b[1;34m\"text\"\u001b[0m\u001b[1;33m)\u001b[0m\u001b[1;33m\u001b[0m\u001b[1;33m\u001b[0m\u001b[0m\n\u001b[0;32m    248\u001b[0m             \u001b[1;32mraise\u001b[0m \u001b[0mexception_class\u001b[0m\u001b[1;33m(\u001b[0m\u001b[0mmessage\u001b[0m\u001b[1;33m,\u001b[0m \u001b[0mscreen\u001b[0m\u001b[1;33m,\u001b[0m \u001b[0mstacktrace\u001b[0m\u001b[1;33m,\u001b[0m \u001b[0malert_text\u001b[0m\u001b[1;33m)\u001b[0m  \u001b[1;31m# type: ignore[call-arg]  # mypy is not smart enough here\u001b[0m\u001b[1;33m\u001b[0m\u001b[1;33m\u001b[0m\u001b[0m\n\u001b[1;32m--> 249\u001b[1;33m         \u001b[1;32mraise\u001b[0m \u001b[0mexception_class\u001b[0m\u001b[1;33m(\u001b[0m\u001b[0mmessage\u001b[0m\u001b[1;33m,\u001b[0m \u001b[0mscreen\u001b[0m\u001b[1;33m,\u001b[0m \u001b[0mstacktrace\u001b[0m\u001b[1;33m)\u001b[0m\u001b[1;33m\u001b[0m\u001b[1;33m\u001b[0m\u001b[0m\n\u001b[0m",
      "\u001b[1;31mNoSuchElementException\u001b[0m: Message: no such element: Unable to locate element: {\"method\":\"xpath\",\"selector\":\"//*[@id=\"gdasList\"]/li[1]/div[2]/div[1]/span[1]/span\"}\n  (Session info: chrome=109.0.5414.75)\nStacktrace:\nBacktrace:\n\t(No symbol) [0x004C6643]\n\t(No symbol) [0x0045BE21]\n\t(No symbol) [0x0035DA9D]\n\t(No symbol) [0x00391342]\n\t(No symbol) [0x0039147B]\n\t(No symbol) [0x003C8DC2]\n\t(No symbol) [0x003AFDC4]\n\t(No symbol) [0x003C6B09]\n\t(No symbol) [0x003AFB76]\n\t(No symbol) [0x003849C1]\n\t(No symbol) [0x00385E5D]\n\tGetHandleVerifier [0x0073A142+2497106]\n\tGetHandleVerifier [0x007685D3+2686691]\n\tGetHandleVerifier [0x0076BB9C+2700460]\n\tGetHandleVerifier [0x00573B10+635936]\n\t(No symbol) [0x00464A1F]\n\t(No symbol) [0x0046A418]\n\t(No symbol) [0x0046A505]\n\t(No symbol) [0x0047508B]\n\tBaseThreadInitThunk [0x776400F9+25]\n\tRtlGetAppContainerNamedObjectPath [0x779E7BBE+286]\n\tRtlGetAppContainerNamedObjectPath [0x779E7B8E+238]\n"
     ]
    }
   ],
   "source": [
    "## 파일쓰기\n",
    "csv_filename = 'gicho_rv2.csv' # 스킨케어_토너/로션/올인원\n",
    "csv_open = open(csv_filename, 'w+', encoding = 'utf-8')\n",
    "csv_writer = csv.writer(csv_open)\n",
    "csv_writer.writerow(('pname','rstar','keyword','rtext'))\n",
    "\n",
    "cateList = [a, b, c]\n",
    "\n",
    "for idx, n in enumerate(cateList):\n",
    "    # 구하고자하는 카테고리 들어가기\n",
    "    driver.get(url = n) # 스킨케어 페이지\n",
    "# 다른 페이지 클릭하기 \n",
    "    driver.find_element(By.XPATH,f'//*[@id=\"Contents\"]/div/div[1]/ul/li[{idx+1}]/a').click()\n",
    "    time.sleep(2)\n",
    "    for i in range(1, 4):\n",
    "        for j in range(1,5):\n",
    "            driver.find_element(By.XPATH,f'//*[@id=\"Contents\"]/ul[{i+1}]/li[{j}]/div/a/img').click()\n",
    "            driver.find_element(By.XPATH,f'//*[@id=\"reviewInfo\"]/a').click()\n",
    "            time.sleep(3)\n",
    "            x = driver.find_element(By.XPATH, '//*[@id=\"repReview\"]/em').text[1:-2]\n",
    "            if len(x) >= 2:\n",
    "                n = 10\n",
    "            else:\n",
    "                n = int(x)\n",
    "            for m in range(1,n+1):\n",
    "                pname = driver.find_element(By.XPATH,'//*[@id=\"Contents\"]/div[2]/div[2]/div/p[2]').text\n",
    "                rstar = driver.find_element(By.XPATH, f'//*[@id=\"gdasList\"]/li[{m}]/div[2]/div[1]/span[1]/span').text\n",
    "                keyword = driver.find_element(By.XPATH, f'//*[@id=\"gdasList\"]/li[{m}]/div[2]/div[2]').text\n",
    "                rtext = driver.find_element(By.XPATH, f'//*[@id=\"gdasList\"]/li[{m}]/div[2]/div[3]').text\n",
    "                csv_writer.writerow((pname, rstar, keyword,rtext))\n",
    "                \n",
    "            driver.back()\n",
    "            print(f'__{(i,j)}__')"
   ]
  },
  {
   "cell_type": "code",
   "execution_count": 41,
   "id": "be4ab561-b37a-4a68-8068-0db17ca13ded",
   "metadata": {},
   "outputs": [
    {
     "name": "stdout",
     "output_type": "stream",
     "text": [
      "__(1, 1)__\n",
      "__(1, 2)__\n",
      "__(1, 3)__\n",
      "__(1, 4)__\n",
      "__(2, 1)__\n",
      "__(2, 2)__\n",
      "__(2, 3)__\n",
      "__(2, 4)__\n",
      "__(3, 1)__\n",
      "__(3, 2)__\n",
      "__(3, 3)__\n",
      "__(3, 4)__\n"
     ]
    }
   ],
   "source": [
    "# 팩부분 중분류에서 오류 발생해서\n",
    "for i in range(1, 4):\n",
    "    for j in range(1,5):\n",
    "        driver.find_element(By.XPATH,f'//*[@id=\"Contents\"]/ul[{i+1}]/li[{j}]/div/a/img').click()\n",
    "        driver.find_element(By.XPATH,f'//*[@id=\"reviewInfo\"]/a').click()\n",
    "        time.sleep(3)\n",
    "        x = driver.find_element(By.XPATH, '//*[@id=\"repReview\"]/em').text[1:-2]\n",
    "        if len(x) >= 2:\n",
    "            n = 10\n",
    "        else:\n",
    "            n = int(x)\n",
    "        for m in range(1,n+1):\n",
    "            pname = driver.find_element(By.XPATH,'//*[@id=\"Contents\"]/div[2]/div[2]/div/p[2]').text\n",
    "            rstar = driver.find_element(By.XPATH, f'//*[@id=\"gdasList\"]/li[{m}]/div[2]/div[1]/span[1]/span').text\n",
    "            keyword = driver.find_element(By.XPATH, f'//*[@id=\"gdasList\"]/li[{m}]/div[2]/div[2]').text\n",
    "            rtext = driver.find_element(By.XPATH, f'//*[@id=\"gdasList\"]/li[{m}]/div[2]/div[3]').text\n",
    "            csv_writer.writerow((pname, rstar, keyword,rtext))\n",
    "                \n",
    "        driver.back()\n",
    "        print(f'__{(i,j)}__')"
   ]
  },
  {
   "cell_type": "code",
   "execution_count": 46,
   "id": "2bd9b042-cffd-4551-ad53-93440a0927f5",
   "metadata": {},
   "outputs": [
    {
     "ename": "NoSuchElementException",
     "evalue": "Message: no such element: Unable to locate element: {\"method\":\"xpath\",\"selector\":\"//*[@id=\"Contents\"]/ul[2]/li[2]/div/a/img\"}\n  (Session info: chrome=109.0.5414.75)\nStacktrace:\nBacktrace:\n\t(No symbol) [0x004C6643]\n\t(No symbol) [0x0045BE21]\n\t(No symbol) [0x0035DA9D]\n\t(No symbol) [0x00391342]\n\t(No symbol) [0x0039147B]\n\t(No symbol) [0x003C8DC2]\n\t(No symbol) [0x003AFDC4]\n\t(No symbol) [0x003C6B09]\n\t(No symbol) [0x003AFB76]\n\t(No symbol) [0x003849C1]\n\t(No symbol) [0x00385E5D]\n\tGetHandleVerifier [0x0073A142+2497106]\n\tGetHandleVerifier [0x007685D3+2686691]\n\tGetHandleVerifier [0x0076BB9C+2700460]\n\tGetHandleVerifier [0x00573B10+635936]\n\t(No symbol) [0x00464A1F]\n\t(No symbol) [0x0046A418]\n\t(No symbol) [0x0046A505]\n\t(No symbol) [0x0047508B]\n\tBaseThreadInitThunk [0x776400F9+25]\n\tRtlGetAppContainerNamedObjectPath [0x779E7BBE+286]\n\tRtlGetAppContainerNamedObjectPath [0x779E7B8E+238]\n",
     "output_type": "error",
     "traceback": [
      "\u001b[1;31m---------------------------------------------------------------------------\u001b[0m",
      "\u001b[1;31mNoSuchElementException\u001b[0m                    Traceback (most recent call last)",
      "\u001b[1;32m~\\AppData\\Local\\Temp/ipykernel_17728/4253458676.py\u001b[0m in \u001b[0;36m<module>\u001b[1;34m\u001b[0m\n\u001b[0;32m      4\u001b[0m     \u001b[1;32mfor\u001b[0m \u001b[0mi\u001b[0m \u001b[1;32min\u001b[0m \u001b[0mrange\u001b[0m\u001b[1;33m(\u001b[0m\u001b[1;36m1\u001b[0m\u001b[1;33m,\u001b[0m \u001b[1;36m4\u001b[0m\u001b[1;33m)\u001b[0m\u001b[1;33m:\u001b[0m\u001b[1;33m\u001b[0m\u001b[1;33m\u001b[0m\u001b[0m\n\u001b[0;32m      5\u001b[0m         \u001b[1;32mfor\u001b[0m \u001b[0mj\u001b[0m \u001b[1;32min\u001b[0m \u001b[0mrange\u001b[0m\u001b[1;33m(\u001b[0m\u001b[1;36m1\u001b[0m\u001b[1;33m,\u001b[0m\u001b[1;36m5\u001b[0m\u001b[1;33m)\u001b[0m\u001b[1;33m:\u001b[0m\u001b[1;33m\u001b[0m\u001b[1;33m\u001b[0m\u001b[0m\n\u001b[1;32m----> 6\u001b[1;33m             \u001b[0mdriver\u001b[0m\u001b[1;33m.\u001b[0m\u001b[0mfind_element\u001b[0m\u001b[1;33m(\u001b[0m\u001b[0mBy\u001b[0m\u001b[1;33m.\u001b[0m\u001b[0mXPATH\u001b[0m\u001b[1;33m,\u001b[0m\u001b[1;34mf'//*[@id=\"Contents\"]/ul[{i+1}]/li[{j}]/div/a/img'\u001b[0m\u001b[1;33m)\u001b[0m\u001b[1;33m.\u001b[0m\u001b[0mclick\u001b[0m\u001b[1;33m(\u001b[0m\u001b[1;33m)\u001b[0m\u001b[1;33m\u001b[0m\u001b[1;33m\u001b[0m\u001b[0m\n\u001b[0m\u001b[0;32m      7\u001b[0m             \u001b[0mtime\u001b[0m\u001b[1;33m.\u001b[0m\u001b[0msleep\u001b[0m\u001b[1;33m(\u001b[0m\u001b[1;36m2\u001b[0m\u001b[1;33m)\u001b[0m\u001b[1;33m\u001b[0m\u001b[1;33m\u001b[0m\u001b[0m\n\u001b[0;32m      8\u001b[0m             \u001b[0mdriver\u001b[0m\u001b[1;33m.\u001b[0m\u001b[0mfind_element\u001b[0m\u001b[1;33m(\u001b[0m\u001b[0mBy\u001b[0m\u001b[1;33m.\u001b[0m\u001b[0mXPATH\u001b[0m\u001b[1;33m,\u001b[0m\u001b[1;34mf'//*[@id=\"reviewInfo\"]/a'\u001b[0m\u001b[1;33m)\u001b[0m\u001b[1;33m.\u001b[0m\u001b[0mclick\u001b[0m\u001b[1;33m(\u001b[0m\u001b[1;33m)\u001b[0m\u001b[1;33m\u001b[0m\u001b[1;33m\u001b[0m\u001b[0m\n",
      "\u001b[1;32mC:\\Anaconda3\\lib\\site-packages\\selenium\\webdriver\\remote\\webdriver.py\u001b[0m in \u001b[0;36mfind_element\u001b[1;34m(self, by, value)\u001b[0m\n\u001b[0;32m    859\u001b[0m             \u001b[0mvalue\u001b[0m \u001b[1;33m=\u001b[0m \u001b[1;34m'[name=\"%s\"]'\u001b[0m \u001b[1;33m%\u001b[0m \u001b[0mvalue\u001b[0m\u001b[1;33m\u001b[0m\u001b[1;33m\u001b[0m\u001b[0m\n\u001b[0;32m    860\u001b[0m \u001b[1;33m\u001b[0m\u001b[0m\n\u001b[1;32m--> 861\u001b[1;33m         \u001b[1;32mreturn\u001b[0m \u001b[0mself\u001b[0m\u001b[1;33m.\u001b[0m\u001b[0mexecute\u001b[0m\u001b[1;33m(\u001b[0m\u001b[0mCommand\u001b[0m\u001b[1;33m.\u001b[0m\u001b[0mFIND_ELEMENT\u001b[0m\u001b[1;33m,\u001b[0m \u001b[1;33m{\u001b[0m\u001b[1;34m\"using\"\u001b[0m\u001b[1;33m:\u001b[0m \u001b[0mby\u001b[0m\u001b[1;33m,\u001b[0m \u001b[1;34m\"value\"\u001b[0m\u001b[1;33m:\u001b[0m \u001b[0mvalue\u001b[0m\u001b[1;33m}\u001b[0m\u001b[1;33m)\u001b[0m\u001b[1;33m[\u001b[0m\u001b[1;34m\"value\"\u001b[0m\u001b[1;33m]\u001b[0m\u001b[1;33m\u001b[0m\u001b[1;33m\u001b[0m\u001b[0m\n\u001b[0m\u001b[0;32m    862\u001b[0m \u001b[1;33m\u001b[0m\u001b[0m\n\u001b[0;32m    863\u001b[0m     \u001b[1;32mdef\u001b[0m \u001b[0mfind_elements\u001b[0m\u001b[1;33m(\u001b[0m\u001b[0mself\u001b[0m\u001b[1;33m,\u001b[0m \u001b[0mby\u001b[0m\u001b[1;33m=\u001b[0m\u001b[0mBy\u001b[0m\u001b[1;33m.\u001b[0m\u001b[0mID\u001b[0m\u001b[1;33m,\u001b[0m \u001b[0mvalue\u001b[0m\u001b[1;33m:\u001b[0m \u001b[0mOptional\u001b[0m\u001b[1;33m[\u001b[0m\u001b[0mstr\u001b[0m\u001b[1;33m]\u001b[0m \u001b[1;33m=\u001b[0m \u001b[1;32mNone\u001b[0m\u001b[1;33m)\u001b[0m \u001b[1;33m->\u001b[0m \u001b[0mList\u001b[0m\u001b[1;33m[\u001b[0m\u001b[0mWebElement\u001b[0m\u001b[1;33m]\u001b[0m\u001b[1;33m:\u001b[0m\u001b[1;33m\u001b[0m\u001b[1;33m\u001b[0m\u001b[0m\n",
      "\u001b[1;32mC:\\Anaconda3\\lib\\site-packages\\selenium\\webdriver\\remote\\webdriver.py\u001b[0m in \u001b[0;36mexecute\u001b[1;34m(self, driver_command, params)\u001b[0m\n\u001b[0;32m    442\u001b[0m         \u001b[0mresponse\u001b[0m \u001b[1;33m=\u001b[0m \u001b[0mself\u001b[0m\u001b[1;33m.\u001b[0m\u001b[0mcommand_executor\u001b[0m\u001b[1;33m.\u001b[0m\u001b[0mexecute\u001b[0m\u001b[1;33m(\u001b[0m\u001b[0mdriver_command\u001b[0m\u001b[1;33m,\u001b[0m \u001b[0mparams\u001b[0m\u001b[1;33m)\u001b[0m\u001b[1;33m\u001b[0m\u001b[1;33m\u001b[0m\u001b[0m\n\u001b[0;32m    443\u001b[0m         \u001b[1;32mif\u001b[0m \u001b[0mresponse\u001b[0m\u001b[1;33m:\u001b[0m\u001b[1;33m\u001b[0m\u001b[1;33m\u001b[0m\u001b[0m\n\u001b[1;32m--> 444\u001b[1;33m             \u001b[0mself\u001b[0m\u001b[1;33m.\u001b[0m\u001b[0merror_handler\u001b[0m\u001b[1;33m.\u001b[0m\u001b[0mcheck_response\u001b[0m\u001b[1;33m(\u001b[0m\u001b[0mresponse\u001b[0m\u001b[1;33m)\u001b[0m\u001b[1;33m\u001b[0m\u001b[1;33m\u001b[0m\u001b[0m\n\u001b[0m\u001b[0;32m    445\u001b[0m             \u001b[0mresponse\u001b[0m\u001b[1;33m[\u001b[0m\u001b[1;34m\"value\"\u001b[0m\u001b[1;33m]\u001b[0m \u001b[1;33m=\u001b[0m \u001b[0mself\u001b[0m\u001b[1;33m.\u001b[0m\u001b[0m_unwrap_value\u001b[0m\u001b[1;33m(\u001b[0m\u001b[0mresponse\u001b[0m\u001b[1;33m.\u001b[0m\u001b[0mget\u001b[0m\u001b[1;33m(\u001b[0m\u001b[1;34m\"value\"\u001b[0m\u001b[1;33m,\u001b[0m \u001b[1;32mNone\u001b[0m\u001b[1;33m)\u001b[0m\u001b[1;33m)\u001b[0m\u001b[1;33m\u001b[0m\u001b[1;33m\u001b[0m\u001b[0m\n\u001b[0;32m    446\u001b[0m             \u001b[1;32mreturn\u001b[0m \u001b[0mresponse\u001b[0m\u001b[1;33m\u001b[0m\u001b[1;33m\u001b[0m\u001b[0m\n",
      "\u001b[1;32mC:\\Anaconda3\\lib\\site-packages\\selenium\\webdriver\\remote\\errorhandler.py\u001b[0m in \u001b[0;36mcheck_response\u001b[1;34m(self, response)\u001b[0m\n\u001b[0;32m    247\u001b[0m                 \u001b[0malert_text\u001b[0m \u001b[1;33m=\u001b[0m \u001b[0mvalue\u001b[0m\u001b[1;33m[\u001b[0m\u001b[1;34m\"alert\"\u001b[0m\u001b[1;33m]\u001b[0m\u001b[1;33m.\u001b[0m\u001b[0mget\u001b[0m\u001b[1;33m(\u001b[0m\u001b[1;34m\"text\"\u001b[0m\u001b[1;33m)\u001b[0m\u001b[1;33m\u001b[0m\u001b[1;33m\u001b[0m\u001b[0m\n\u001b[0;32m    248\u001b[0m             \u001b[1;32mraise\u001b[0m \u001b[0mexception_class\u001b[0m\u001b[1;33m(\u001b[0m\u001b[0mmessage\u001b[0m\u001b[1;33m,\u001b[0m \u001b[0mscreen\u001b[0m\u001b[1;33m,\u001b[0m \u001b[0mstacktrace\u001b[0m\u001b[1;33m,\u001b[0m \u001b[0malert_text\u001b[0m\u001b[1;33m)\u001b[0m  \u001b[1;31m# type: ignore[call-arg]  # mypy is not smart enough here\u001b[0m\u001b[1;33m\u001b[0m\u001b[1;33m\u001b[0m\u001b[0m\n\u001b[1;32m--> 249\u001b[1;33m         \u001b[1;32mraise\u001b[0m \u001b[0mexception_class\u001b[0m\u001b[1;33m(\u001b[0m\u001b[0mmessage\u001b[0m\u001b[1;33m,\u001b[0m \u001b[0mscreen\u001b[0m\u001b[1;33m,\u001b[0m \u001b[0mstacktrace\u001b[0m\u001b[1;33m)\u001b[0m\u001b[1;33m\u001b[0m\u001b[1;33m\u001b[0m\u001b[0m\n\u001b[0m",
      "\u001b[1;31mNoSuchElementException\u001b[0m: Message: no such element: Unable to locate element: {\"method\":\"xpath\",\"selector\":\"//*[@id=\"Contents\"]/ul[2]/li[2]/div/a/img\"}\n  (Session info: chrome=109.0.5414.75)\nStacktrace:\nBacktrace:\n\t(No symbol) [0x004C6643]\n\t(No symbol) [0x0045BE21]\n\t(No symbol) [0x0035DA9D]\n\t(No symbol) [0x00391342]\n\t(No symbol) [0x0039147B]\n\t(No symbol) [0x003C8DC2]\n\t(No symbol) [0x003AFDC4]\n\t(No symbol) [0x003C6B09]\n\t(No symbol) [0x003AFB76]\n\t(No symbol) [0x003849C1]\n\t(No symbol) [0x00385E5D]\n\tGetHandleVerifier [0x0073A142+2497106]\n\tGetHandleVerifier [0x007685D3+2686691]\n\tGetHandleVerifier [0x0076BB9C+2700460]\n\tGetHandleVerifier [0x00573B10+635936]\n\t(No symbol) [0x00464A1F]\n\t(No symbol) [0x0046A418]\n\t(No symbol) [0x0046A505]\n\t(No symbol) [0x0047508B]\n\tBaseThreadInitThunk [0x776400F9+25]\n\tRtlGetAppContainerNamedObjectPath [0x779E7BBE+286]\n\tRtlGetAppContainerNamedObjectPath [0x779E7B8E+238]\n"
     ]
    }
   ],
   "source": [
    "driver.get(url = d)\n",
    "for k in range(1, 3):\n",
    "    driver.find_element(By.XPATH,f'//*[@id=\"Contents\"]/div/div[1]/ul/li[{k}]/a').click()\n",
    "    for i in range(1, 4):\n",
    "        for j in range(1,5):\n",
    "            driver.find_element(By.XPATH,f'//*[@id=\"Contents\"]/ul[{i+1}]/li[{j}]/div/a/img').click()\n",
    "            time.sleep(2)\n",
    "            driver.find_element(By.XPATH,f'//*[@id=\"reviewInfo\"]/a').click()\n",
    "            time.sleep(3)\n",
    "            x = driver.find_element(By.XPATH, '//*[@id=\"repReview\"]/em').text[1:-2]\n",
    "        if len(x) >= 2:\n",
    "            n = 10\n",
    "        else:\n",
    "            n = int(x)\n",
    "        for m in range(1,n+1):\n",
    "            pname = driver.find_element(By.XPATH,'//*[@id=\"Contents\"]/div[2]/div[2]/div/p[2]').text\n",
    "            rstar = driver.find_element(By.XPATH, f'//*[@id=\"gdasList\"]/li[{m}]/div[2]/div[1]/span[1]/span').text\n",
    "            keyword = driver.find_element(By.XPATH, f'//*[@id=\"gdasList\"]/li[{m}]/div[2]/div[2]').text\n",
    "            rtext = driver.find_element(By.XPATH, f'//*[@id=\"gdasList\"]/li[{m}]/div[2]/div[3]').text\n",
    "            csv_writer.writerow((pname, rstar, keyword,rtext))\n",
    "                \n",
    "        driver.back()\n",
    "        print(f'__{(i,j)}__')"
   ]
  },
  {
   "cell_type": "code",
   "execution_count": null,
   "id": "5c191798-c006-45d9-a07b-6c3fbb416908",
   "metadata": {},
   "outputs": [],
   "source": []
  },
  {
   "cell_type": "code",
   "execution_count": null,
   "id": "eb6764a9-a953-4c81-99f0-2d6acf7131d2",
   "metadata": {},
   "outputs": [],
   "source": []
  },
  {
   "cell_type": "code",
   "execution_count": 47,
   "id": "e72a81f0-0fb9-41ba-939f-1cd633c96a19",
   "metadata": {},
   "outputs": [],
   "source": [
    "csv_open.close()"
   ]
  },
  {
   "cell_type": "code",
   "execution_count": null,
   "id": "e8332ec5-3960-4085-aa3c-d8de06774c44",
   "metadata": {},
   "outputs": [],
   "source": []
  }
 ],
 "metadata": {
  "kernelspec": {
   "display_name": "Python 3 (ipykernel)",
   "language": "python",
   "name": "python3"
  },
  "language_info": {
   "codemirror_mode": {
    "name": "ipython",
    "version": 3
   },
   "file_extension": ".py",
   "mimetype": "text/x-python",
   "name": "python",
   "nbconvert_exporter": "python",
   "pygments_lexer": "ipython3",
   "version": "3.9.7"
  }
 },
 "nbformat": 4,
 "nbformat_minor": 5
}
